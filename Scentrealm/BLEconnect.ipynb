{
 "cells": [
  {
   "cell_type": "code",
   "id": "initial_id",
   "metadata": {
    "collapsed": true,
    "ExecuteTime": {
     "end_time": "2024-12-21T13:53:56.665571Z",
     "start_time": "2024-12-21T13:53:56.626522Z"
    }
   },
   "source": [
    "import asyncio\n",
    "from bleak import BleakClient, BleakScanner\n",
    "\n",
    "# 替换为设备的蓝牙名称或 MAC 地址\n",
    "DEVICE_NAME = \"scent08d1f912d536\"\n",
    "CHARACTERISTIC_UUID = \"6e400002-b5a3-f393-e0a9-e50e24dcca9e\"  # 替换为文档中的特性 UUID\n",
    "\n",
    "# 生成播放单路气味的命令\n",
    "def generate_command(channel, duration):\n",
    "    \"\"\"\n",
    "    生成播放单路气味的蓝牙命令\n",
    "    :param channel: 通道号 (1-10)\n",
    "    :param duration: 持续时间 (1-255 秒)\n",
    "    :return: 命令字节数组\n",
    "    \"\"\"\n",
    "    if not (1 <= channel <= 10):\n",
    "        raise ValueError(\"通道号必须在 1 到 10 之间\")\n",
    "    if not (1 <= duration <= 255):\n",
    "        raise ValueError(\"持续时间必须在 1 到 255 秒之间\")\n",
    "    \n",
    "    # 固定命令头\n",
    "    command = [0xAA, 0x55]\n",
    "    # 命令类型\n",
    "    command.append(0x01)\n",
    "    # 通道号\n",
    "    command.append(channel)\n",
    "    # 持续时间\n",
    "    command.append(duration)\n",
    "    # 校验和计算\n",
    "    checksum = (0x01 + channel + duration) & 0xFF\n",
    "    command.append(checksum)\n",
    "    return bytearray(command)\n",
    "\n",
    "async def main():\n",
    "    # 搜索设备\n",
    "    print(\"Scanning for devices...\")\n",
    "    devices = await BleakScanner.discover()\n",
    "    target_device = None\n",
    "    for device in devices:\n",
    "        print(f\"Found device: {device.name} - {device.address}\")\n",
    "        if device.name == DEVICE_NAME:\n",
    "            target_device = device\n",
    "            break\n",
    "\n",
    "    if not target_device:\n",
    "        print(f\"Device '{DEVICE_NAME}' not found.\")\n",
    "        return\n",
    "\n",
    "    # 连接到设备\n",
    "    print(f\"Connecting to {DEVICE_NAME}...\")\n",
    "    async with BleakClient(target_device.address) as client:\n",
    "        print(f\"Connected to {DEVICE_NAME}\")\n",
    "\n",
    "        # 播放单路气味（示例：通道 1，持续 10 秒）\n",
    "        channel = 1  # 替换为你想要播放的通道号\n",
    "        duration = 10  # 替换为你想要的持续时间（秒）\n",
    "        command = generate_command(channel, duration)\n",
    "\n",
    "        print(f\"Sending command to play channel {channel} for {duration} seconds...\")\n",
    "        await client.write_gatt_char(CHARACTERISTIC_UUID, command)\n",
    "        print(\"Command sent successfully.\")\n",
    "\n",
    "# 运行主程序\n",
    "asyncio.run(main())"
   ],
   "outputs": [
    {
     "name": "stderr",
     "output_type": "stream",
     "text": [
      "<frozen genericpath>:89: RuntimeWarning: coroutine 'main' was never awaited\n",
      "RuntimeWarning: Enable tracemalloc to get the object allocation traceback\n"
     ]
    },
    {
     "ename": "RuntimeError",
     "evalue": "asyncio.run() cannot be called from a running event loop",
     "output_type": "error",
     "traceback": [
      "\u001B[1;31m---------------------------------------------------------------------------\u001B[0m",
      "\u001B[1;31mRuntimeError\u001B[0m                              Traceback (most recent call last)",
      "Cell \u001B[1;32mIn[3], line 64\u001B[0m\n\u001B[0;32m     61\u001B[0m         \u001B[38;5;28mprint\u001B[39m(\u001B[38;5;124m\"\u001B[39m\u001B[38;5;124mCommand sent successfully.\u001B[39m\u001B[38;5;124m\"\u001B[39m)\n\u001B[0;32m     63\u001B[0m \u001B[38;5;66;03m# 运行主程序\u001B[39;00m\n\u001B[1;32m---> 64\u001B[0m \u001B[43masyncio\u001B[49m\u001B[38;5;241;43m.\u001B[39;49m\u001B[43mrun\u001B[49m\u001B[43m(\u001B[49m\u001B[43mmain\u001B[49m\u001B[43m(\u001B[49m\u001B[43m)\u001B[49m\u001B[43m)\u001B[49m\n",
      "File \u001B[1;32mD:\\Python\\Lib\\asyncio\\runners.py:190\u001B[0m, in \u001B[0;36mrun\u001B[1;34m(main, debug, loop_factory)\u001B[0m\n\u001B[0;32m    161\u001B[0m \u001B[38;5;250m\u001B[39m\u001B[38;5;124;03m\"\"\"Execute the coroutine and return the result.\u001B[39;00m\n\u001B[0;32m    162\u001B[0m \n\u001B[0;32m    163\u001B[0m \u001B[38;5;124;03mThis function runs the passed coroutine, taking care of\u001B[39;00m\n\u001B[1;32m   (...)\u001B[0m\n\u001B[0;32m    186\u001B[0m \u001B[38;5;124;03m    asyncio.run(main())\u001B[39;00m\n\u001B[0;32m    187\u001B[0m \u001B[38;5;124;03m\"\"\"\u001B[39;00m\n\u001B[0;32m    188\u001B[0m \u001B[38;5;28;01mif\u001B[39;00m events\u001B[38;5;241m.\u001B[39m_get_running_loop() \u001B[38;5;129;01mis\u001B[39;00m \u001B[38;5;129;01mnot\u001B[39;00m \u001B[38;5;28;01mNone\u001B[39;00m:\n\u001B[0;32m    189\u001B[0m     \u001B[38;5;66;03m# fail fast with short traceback\u001B[39;00m\n\u001B[1;32m--> 190\u001B[0m     \u001B[38;5;28;01mraise\u001B[39;00m \u001B[38;5;167;01mRuntimeError\u001B[39;00m(\n\u001B[0;32m    191\u001B[0m         \u001B[38;5;124m\"\u001B[39m\u001B[38;5;124masyncio.run() cannot be called from a running event loop\u001B[39m\u001B[38;5;124m\"\u001B[39m)\n\u001B[0;32m    193\u001B[0m \u001B[38;5;28;01mwith\u001B[39;00m Runner(debug\u001B[38;5;241m=\u001B[39mdebug, loop_factory\u001B[38;5;241m=\u001B[39mloop_factory) \u001B[38;5;28;01mas\u001B[39;00m runner:\n\u001B[0;32m    194\u001B[0m     \u001B[38;5;28;01mreturn\u001B[39;00m runner\u001B[38;5;241m.\u001B[39mrun(main)\n",
      "\u001B[1;31mRuntimeError\u001B[0m: asyncio.run() cannot be called from a running event loop"
     ]
    }
   ],
   "execution_count": 3
  },
  {
   "metadata": {
    "ExecuteTime": {
     "end_time": "2024-12-21T13:54:40.009904Z",
     "start_time": "2024-12-21T13:54:40.007592Z"
    }
   },
   "cell_type": "code",
   "source": "",
   "id": "df49804149de5be",
   "outputs": [],
   "execution_count": null
  },
  {
   "metadata": {},
   "cell_type": "code",
   "outputs": [],
   "execution_count": null,
   "source": "",
   "id": "84b16c18e85c67da"
  }
 ],
 "metadata": {
  "kernelspec": {
   "display_name": "Python 3",
   "language": "python",
   "name": "python3"
  },
  "language_info": {
   "codemirror_mode": {
    "name": "ipython",
    "version": 2
   },
   "file_extension": ".py",
   "mimetype": "text/x-python",
   "name": "python",
   "nbconvert_exporter": "python",
   "pygments_lexer": "ipython2",
   "version": "2.7.6"
  }
 },
 "nbformat": 4,
 "nbformat_minor": 5
}
